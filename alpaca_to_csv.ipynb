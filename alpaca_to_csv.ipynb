{
 "cells": [
  {
   "cell_type": "markdown",
   "metadata": {},
   "source": [
    "# Alpaca Price Data to CSV"
   ]
  },
  {
   "cell_type": "code",
   "execution_count": 2,
   "metadata": {},
   "outputs": [
    {
     "name": "stdout",
     "output_type": "stream",
     "text": [
      "                            volume    high       low   close    open  \\\n",
      "timestamp                                                              \n",
      "2024-03-05 09:30:00+00:00    42702  441.00  440.6300  441.00  440.70   \n",
      "2024-03-05 09:35:00+00:00  1967726  440.95  439.4904  439.54  440.94   \n",
      "2024-03-05 09:40:00+00:00  1423247  439.79  439.0900  439.68  439.52   \n",
      "2024-03-05 09:45:00+00:00   986065  439.81  439.0600  439.33  439.69   \n",
      "2024-03-05 09:50:00+00:00  1185201  439.32  438.3100  438.83  439.32   \n",
      "\n",
      "                                 vwap  \n",
      "timestamp                              \n",
      "2024-03-05 09:30:00+00:00  440.859391  \n",
      "2024-03-05 09:35:00+00:00  440.123686  \n",
      "2024-03-05 09:40:00+00:00  439.506483  \n",
      "2024-03-05 09:45:00+00:00  439.459675  \n",
      "2024-03-05 09:50:00+00:00  438.852920  \n"
     ]
    }
   ],
   "source": [
    "import alpaca_trade_api as tradeapi\n",
    "from alpaca_trade_api.rest import TimeFrame\n",
    "from datetime import datetime, timedelta\n",
    "import pandas as pd\n",
    "\n",
    "API_KEY = \"PKN6GO3I5GONGZW9QNS3\"\n",
    "API_SECRET = \"aEtyZlL3hvhtews57cmKkZzK13r6CPbg1h9Mf2ei\"\n",
    "BASE_URL = \"https://paper-api.alpaca.markets\" \n",
    "\n",
    "api = tradeapi.REST(API_KEY, API_SECRET, BASE_URL, api_version='v2')\n",
    "\n",
    "ticker = \"QQQ\" \n",
    "end_date = datetime.now()\n",
    "start_date = end_date - timedelta(days=365)\n",
    "\n",
    "bars = api.get_bars(ticker, TimeFrame.Minute, \n",
    "                    start_date.strftime('%Y-%m-%dT%H:%M:%SZ'), \n",
    "                    end_date.strftime('%Y-%m-%dT%H:%M:%SZ')).df\n",
    "# Adjust timestamps by subtracting 5 hours since Alpaca data is 5 hours ahead\n",
    "bars.index = bars.index - timedelta(hours=5)\n",
    "\n",
    "# Shift index by 5 minutes to create bins that will reflect the previous 5 minutes when shifted back.\n",
    "bars_shifted = bars.copy()\n",
    "bars_shifted.index = bars_shifted.index - timedelta(minutes=5)\n",
    "\n",
    "# Resample on 5-minute intervals to include high, low, close price data\n",
    "bars_5m = pd.DataFrame()\n",
    "bars_5m['volume'] = bars_shifted['volume'].resample('5min', label='right', closed='left').sum()\n",
    "bars_5m['high'] = bars_shifted['high'].resample('5min', label='right', closed='left').max()\n",
    "bars_5m['low'] = bars_shifted['low'].resample('5min', label='right', closed='left').min()\n",
    "bars_5m['close'] = bars_shifted['close'].resample('5min', label='right', closed='left').last()\n",
    "bars_5m['open'] = bars_shifted['open'].resample('5min', label='right', closed='left').first()\n",
    "bars_5m['vwap'] = (bars_shifted['close'] * bars_shifted['volume'])\\\n",
    "                  .resample('5min', label='right', closed='left').sum() / bars_5m['volume']\n",
    "\n",
    "# Shift the resampled index back by 5 minutes so that the value labeled 10:00 represents data from 9:55–9:59.\n",
    "bars_5m.index = bars_5m.index + timedelta(minutes=5)\n",
    "\n",
    "# Filter for market hours only (9:30 AM to 4:00 PM Eastern Time)\n",
    "market_hours = bars_5m.between_time('9:30', '16:00')\n",
    "\n",
    "# Remove the first day to have all data start at the same time, unrelated to time of day\n",
    "first_date = market_hours.index[0].date()\n",
    "market_hours = market_hours[market_hours.index.date > first_date]\n",
    "\n",
    "# Remove all NaN values\n",
    "market_hours = market_hours.dropna()\n",
    "\n",
    "print(market_hours.head())\n"
   ]
  },
  {
   "cell_type": "markdown",
   "metadata": {},
   "source": [
    "Next, we want to split the data into 2 datasets and into a folder, so that we can train our model on the first dataset and verify with recent data. Let's set a parameter 'days_test' to seperate up to the recent 'days_test' days."
   ]
  },
  {
   "cell_type": "code",
   "execution_count": 4,
   "metadata": {},
   "outputs": [
    {
     "name": "stdout",
     "output_type": "stream",
     "text": [
      "Training data saved to QQQ_2025-03-02_datasets/QQQ_train_data.csv, with 16427 records from 2024-03-05 to 2024-12-30\n",
      "Testing data saved to QQQ_2025-03-02_datasets/QQQ_test_data.csv, with 3160 records from 2024-12-31 to 2025-02-28\n",
      "Split date: 2024-12-30\n"
     ]
    }
   ],
   "source": [
    "import os\n",
    "from datetime import timedelta\n",
    "\n",
    "# Create a directory to store the datasets if it doesn't exist\n",
    "output_dir = f\"{ticker}_{end_date.strftime('%Y-%m-%d')}_datasets\"\n",
    "if not os.path.exists(output_dir):\n",
    "    os.makedirs(output_dir)\n",
    "\n",
    "# Set the number of days for testing\n",
    "days_test = 60  # You can adjust this parameter as needed\n",
    "\n",
    "# Calculate the split date\n",
    "last_date = market_hours.index[-1].date()\n",
    "split_date = last_date - timedelta(days=days_test)\n",
    "\n",
    "# Split the data\n",
    "train_data = market_hours[market_hours.index.date <= split_date]\n",
    "test_data = market_hours[market_hours.index.date > split_date]\n",
    "\n",
    "# Save the datasets to CSV files\n",
    "train_filename = f\"{output_dir}/{ticker}_train_data.csv\"\n",
    "test_filename = f\"{output_dir}/{ticker}_test_data.csv\"\n",
    "\n",
    "train_data.to_csv(train_filename)\n",
    "test_data.to_csv(test_filename)\n",
    "\n",
    "print(f\"Training data saved to {train_filename}, with {len(train_data)} records from {train_data.index[0].date()} to {train_data.index[-1].date()}\")\n",
    "print(f\"Testing data saved to {test_filename}, with {len(test_data)} records from {test_data.index[0].date()} to {test_data.index[-1].date()}\")\n",
    "print(f\"Split date: {split_date}\")"
   ]
  },
  {
   "cell_type": "markdown",
   "metadata": {},
   "source": []
  }
 ],
 "metadata": {
  "kernelspec": {
   "display_name": "Python 3",
   "language": "python",
   "name": "python3"
  },
  "language_info": {
   "codemirror_mode": {
    "name": "ipython",
    "version": 3
   },
   "file_extension": ".py",
   "mimetype": "text/x-python",
   "name": "python",
   "nbconvert_exporter": "python",
   "pygments_lexer": "ipython3",
   "version": "3.13.2"
  }
 },
 "nbformat": 4,
 "nbformat_minor": 2
}
